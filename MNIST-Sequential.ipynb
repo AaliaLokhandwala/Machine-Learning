{
  "nbformat": 4,
  "nbformat_minor": 0,
  "metadata": {
    "colab": {
      "name": "MNIST-Sequential.ipynb",
      "version": "0.3.2",
      "provenance": []
    },
    "kernelspec": {
      "name": "python3",
      "display_name": "Python 3"
    }
  },
  "cells": [
    {
      "cell_type": "code",
      "metadata": {
        "id": "2tz9Do-s-056",
        "colab_type": "code",
        "outputId": "16743e63-a6af-42da-97a5-1c49ccfde327",
        "colab": {
          "base_uri": "https://localhost:8080/",
          "height": 68
        }
      },
      "source": [
        "#importing the dataset and splitting into test and train\n",
        "from keras.datasets import mnist\n",
        "(x_train, y_train), (x_test, y_test) = mnist.load_data()"
      ],
      "execution_count": 1,
      "outputs": [
        {
          "output_type": "stream",
          "text": [
            "Using TensorFlow backend.\n"
          ],
          "name": "stderr"
        },
        {
          "output_type": "stream",
          "text": [
            "Downloading data from https://s3.amazonaws.com/img-datasets/mnist.npz\n",
            "11493376/11490434 [==============================] - 4s 0us/step\n"
          ],
          "name": "stdout"
        }
      ]
    },
    {
      "cell_type": "code",
      "metadata": {
        "id": "iMTcPVHa--kL",
        "colab_type": "code",
        "outputId": "390761ae-88e6-4b02-a682-a27bf46c7ea3",
        "colab": {
          "base_uri": "https://localhost:8080/",
          "height": 51
        }
      },
      "source": [
        "print(\"Training data shape: \", x_train.shape) \n",
        "print(\"Test data shape\", x_test.shape) \n",
        "\n",
        "# Flattening the images\n",
        "image_vector_size = 28*28\n",
        "x_train = x_train.reshape(x_train.shape[0], image_vector_size)\n",
        "x_test = x_test.reshape(x_test.shape[0], image_vector_size)\n",
        "\n"
      ],
      "execution_count": 2,
      "outputs": [
        {
          "output_type": "stream",
          "text": [
            "Training data shape:  (60000, 28, 28)\n",
            "Test data shape (10000, 28, 28)\n"
          ],
          "name": "stdout"
        }
      ]
    },
    {
      "cell_type": "code",
      "metadata": {
        "id": "vJxG7_w5_Nn-",
        "colab_type": "code",
        "outputId": "85c02c09-707c-413c-afce-d076f4004498",
        "colab": {
          "base_uri": "https://localhost:8080/",
          "height": 51
        }
      },
      "source": [
        "print(\"Training label shape: \", y_train.shape) # (60000,) -- 60000 numbers (all 0-9)\n",
        "print(\"First 5 training labels: \", y_train[:5]) "
      ],
      "execution_count": 3,
      "outputs": [
        {
          "output_type": "stream",
          "text": [
            "Training label shape:  (60000,)\n",
            "First 5 training labels:  [5 0 4 1 9]\n"
          ],
          "name": "stdout"
        }
      ]
    },
    {
      "cell_type": "code",
      "metadata": {
        "id": "7NfeVlrK_xE0",
        "colab_type": "code",
        "outputId": "85da545c-b6a6-4327-cac7-9424203155c4",
        "colab": {
          "base_uri": "https://localhost:8080/",
          "height": 119
        }
      },
      "source": [
        "import keras\n",
        "num_classes = 10\n",
        "#Converts a class vector (integers) to binary class matrix.\n",
        "y_train = keras.utils.to_categorical(y_train, num_classes)\n",
        "y_test = keras.utils.to_categorical(y_test, num_classes)\n",
        "print(\"First 5 training lables as one-hot encoded vectors:\\n\", y_train[:5])"
      ],
      "execution_count": 4,
      "outputs": [
        {
          "output_type": "stream",
          "text": [
            "First 5 training lables as one-hot encoded vectors:\n",
            " [[0. 0. 0. 0. 0. 1. 0. 0. 0. 0.]\n",
            " [1. 0. 0. 0. 0. 0. 0. 0. 0. 0.]\n",
            " [0. 0. 0. 0. 1. 0. 0. 0. 0. 0.]\n",
            " [0. 1. 0. 0. 0. 0. 0. 0. 0. 0.]\n",
            " [0. 0. 0. 0. 0. 0. 0. 0. 0. 1.]]\n"
          ],
          "name": "stdout"
        }
      ]
    },
    {
      "cell_type": "code",
      "metadata": {
        "id": "43tUNQUS_7m1",
        "colab_type": "code",
        "colab": {}
      },
      "source": [
        "from keras.layers import Dense \n",
        "from keras.models import Sequential "
      ],
      "execution_count": 0,
      "outputs": []
    },
    {
      "cell_type": "code",
      "metadata": {
        "id": "XCvz3zFpArN6",
        "colab_type": "code",
        "outputId": "01edda2d-14cd-4b0a-dbeb-faff30704b53",
        "colab": {
          "base_uri": "https://localhost:8080/",
          "height": 377
        }
      },
      "source": [
        "image_size = 784 # 28*28\n",
        "num_classes = 10 # ten unique digits\n",
        "\n",
        "model = Sequential()\n",
        "\n",
        "# The input layer requires the special input_shape parameter which should match\n",
        "# the shape of our training data.\n",
        "model.add(Dense(units=32, activation='relu', input_shape=(image_size,)))\n",
        "\n",
        "#making a model with one hidden layer with activation relu\n",
        "model.add(Dense(units=15,activation='relu'))\n",
        "model.add(Dense(units=num_classes, activation='softmax'))\n",
        "model.summary()"
      ],
      "execution_count": 6,
      "outputs": [
        {
          "output_type": "stream",
          "text": [
            "WARNING:tensorflow:From /usr/local/lib/python3.6/dist-packages/keras/backend/tensorflow_backend.py:66: The name tf.get_default_graph is deprecated. Please use tf.compat.v1.get_default_graph instead.\n",
            "\n",
            "WARNING:tensorflow:From /usr/local/lib/python3.6/dist-packages/keras/backend/tensorflow_backend.py:541: The name tf.placeholder is deprecated. Please use tf.compat.v1.placeholder instead.\n",
            "\n",
            "WARNING:tensorflow:From /usr/local/lib/python3.6/dist-packages/keras/backend/tensorflow_backend.py:4432: The name tf.random_uniform is deprecated. Please use tf.random.uniform instead.\n",
            "\n",
            "Model: \"sequential_1\"\n",
            "_________________________________________________________________\n",
            "Layer (type)                 Output Shape              Param #   \n",
            "=================================================================\n",
            "dense_1 (Dense)              (None, 32)                25120     \n",
            "_________________________________________________________________\n",
            "dense_2 (Dense)              (None, 15)                495       \n",
            "_________________________________________________________________\n",
            "dense_3 (Dense)              (None, 10)                160       \n",
            "=================================================================\n",
            "Total params: 25,775\n",
            "Trainable params: 25,775\n",
            "Non-trainable params: 0\n",
            "_________________________________________________________________\n"
          ],
          "name": "stdout"
        }
      ]
    },
    {
      "cell_type": "code",
      "metadata": {
        "id": "6Of-NW3zBJGO",
        "colab_type": "code",
        "outputId": "0c36c98d-2964-4a53-86ad-7f836cc165dd",
        "colab": {
          "base_uri": "https://localhost:8080/",
          "height": 1000
        }
      },
      "source": [
        "import matplotlib.pyplot as plt\n",
        "model.compile(optimizer=\"sgd\", loss='categorical_crossentropy', metrics=['accuracy'])\n",
        "history = model.fit(x_train, y_train, batch_size=128, epochs=30, validation_split=.1)\n",
        "loss, accuracy  = model.evaluate(x_test, y_test)\n",
        "\n",
        "plt.plot(history.history['acc'])\n",
        "plt.plot(history.history['val_acc'])\n",
        "plt.title('model accuracy')\n",
        "plt.ylabel('accuracy')\n",
        "plt.xlabel('epoch')\n",
        "plt.legend(['training', 'validation'], loc='best')\n",
        "plt.show()\n",
        "\n",
        "print(f'Test loss: {loss:.3}')\n",
        "print(f'Test accuracy: {accuracy:.3}')"
      ],
      "execution_count": 7,
      "outputs": [
        {
          "output_type": "stream",
          "text": [
            "WARNING:tensorflow:From /usr/local/lib/python3.6/dist-packages/keras/optimizers.py:793: The name tf.train.Optimizer is deprecated. Please use tf.compat.v1.train.Optimizer instead.\n",
            "\n",
            "WARNING:tensorflow:From /usr/local/lib/python3.6/dist-packages/keras/backend/tensorflow_backend.py:3576: The name tf.log is deprecated. Please use tf.math.log instead.\n",
            "\n",
            "WARNING:tensorflow:From /usr/local/lib/python3.6/dist-packages/tensorflow/python/ops/math_grad.py:1250: add_dispatch_support.<locals>.wrapper (from tensorflow.python.ops.array_ops) is deprecated and will be removed in a future version.\n",
            "Instructions for updating:\n",
            "Use tf.where in 2.0, which has the same broadcast rule as np.where\n",
            "WARNING:tensorflow:From /usr/local/lib/python3.6/dist-packages/keras/backend/tensorflow_backend.py:1033: The name tf.assign_add is deprecated. Please use tf.compat.v1.assign_add instead.\n",
            "\n",
            "Train on 54000 samples, validate on 6000 samples\n",
            "Epoch 1/30\n",
            "54000/54000 [==============================] - 2s 33us/step - loss: 4.6195 - acc: 0.2191 - val_loss: 2.1121 - val_acc: 0.1888\n",
            "Epoch 2/30\n",
            "54000/54000 [==============================] - 1s 19us/step - loss: 1.9730 - acc: 0.2910 - val_loss: 1.9159 - val_acc: 0.2742\n",
            "Epoch 3/30\n",
            "54000/54000 [==============================] - 1s 19us/step - loss: 1.8299 - acc: 0.3424 - val_loss: 1.6760 - val_acc: 0.3928\n",
            "Epoch 4/30\n",
            "54000/54000 [==============================] - 1s 19us/step - loss: 1.6849 - acc: 0.3932 - val_loss: 1.5923 - val_acc: 0.4107\n",
            "Epoch 5/30\n",
            "54000/54000 [==============================] - 1s 19us/step - loss: 1.5721 - acc: 0.4229 - val_loss: 1.4748 - val_acc: 0.4563\n",
            "Epoch 6/30\n",
            "54000/54000 [==============================] - 1s 18us/step - loss: 1.3504 - acc: 0.5064 - val_loss: 1.2187 - val_acc: 0.6693\n",
            "Epoch 7/30\n",
            "54000/54000 [==============================] - 1s 18us/step - loss: 1.0476 - acc: 0.6755 - val_loss: 0.8511 - val_acc: 0.7527\n",
            "Epoch 8/30\n",
            "54000/54000 [==============================] - 1s 19us/step - loss: 0.8253 - acc: 0.7563 - val_loss: 0.6951 - val_acc: 0.8075\n",
            "Epoch 9/30\n",
            "54000/54000 [==============================] - 1s 18us/step - loss: 0.7098 - acc: 0.8221 - val_loss: 0.5621 - val_acc: 0.8792\n",
            "Epoch 10/30\n",
            "54000/54000 [==============================] - 1s 18us/step - loss: 0.5128 - acc: 0.8816 - val_loss: 0.3886 - val_acc: 0.8967\n",
            "Epoch 11/30\n",
            "54000/54000 [==============================] - 1s 18us/step - loss: 0.3925 - acc: 0.8995 - val_loss: 0.3267 - val_acc: 0.9240\n",
            "Epoch 12/30\n",
            "54000/54000 [==============================] - 1s 18us/step - loss: 0.3402 - acc: 0.9129 - val_loss: 0.2972 - val_acc: 0.9298\n",
            "Epoch 13/30\n",
            "54000/54000 [==============================] - 1s 19us/step - loss: 0.3116 - acc: 0.9189 - val_loss: 0.2568 - val_acc: 0.9337\n",
            "Epoch 14/30\n",
            "54000/54000 [==============================] - 1s 19us/step - loss: 0.2923 - acc: 0.9235 - val_loss: 0.2532 - val_acc: 0.9387\n",
            "Epoch 15/30\n",
            "54000/54000 [==============================] - 1s 19us/step - loss: 0.2732 - acc: 0.9294 - val_loss: 0.2536 - val_acc: 0.9398\n",
            "Epoch 16/30\n",
            "54000/54000 [==============================] - 1s 18us/step - loss: 0.2597 - acc: 0.9319 - val_loss: 0.2342 - val_acc: 0.9423\n",
            "Epoch 17/30\n",
            "54000/54000 [==============================] - 1s 18us/step - loss: 0.2532 - acc: 0.9323 - val_loss: 0.2446 - val_acc: 0.9418\n",
            "Epoch 18/30\n",
            "54000/54000 [==============================] - 1s 18us/step - loss: 0.2419 - acc: 0.9367 - val_loss: 0.2157 - val_acc: 0.9457\n",
            "Epoch 19/30\n",
            "54000/54000 [==============================] - 1s 19us/step - loss: 0.2310 - acc: 0.9388 - val_loss: 0.2274 - val_acc: 0.9457\n",
            "Epoch 20/30\n",
            "54000/54000 [==============================] - 1s 18us/step - loss: 0.2230 - acc: 0.9408 - val_loss: 0.2097 - val_acc: 0.9477\n",
            "Epoch 21/30\n",
            "54000/54000 [==============================] - 1s 18us/step - loss: 0.2130 - acc: 0.9428 - val_loss: 0.2087 - val_acc: 0.9493\n",
            "Epoch 22/30\n",
            "54000/54000 [==============================] - 1s 18us/step - loss: 0.2057 - acc: 0.9445 - val_loss: 0.1968 - val_acc: 0.9508\n",
            "Epoch 23/30\n",
            "54000/54000 [==============================] - 1s 19us/step - loss: 0.2002 - acc: 0.9456 - val_loss: 0.2073 - val_acc: 0.9500\n",
            "Epoch 24/30\n",
            "54000/54000 [==============================] - 1s 18us/step - loss: 0.1949 - acc: 0.9478 - val_loss: 0.2071 - val_acc: 0.9483\n",
            "Epoch 25/30\n",
            "54000/54000 [==============================] - 1s 19us/step - loss: 0.1898 - acc: 0.9487 - val_loss: 0.1980 - val_acc: 0.9523\n",
            "Epoch 26/30\n",
            "54000/54000 [==============================] - 1s 19us/step - loss: 0.1847 - acc: 0.9502 - val_loss: 0.2012 - val_acc: 0.9492\n",
            "Epoch 27/30\n",
            "54000/54000 [==============================] - 1s 18us/step - loss: 0.1807 - acc: 0.9504 - val_loss: 0.2141 - val_acc: 0.9472\n",
            "Epoch 28/30\n",
            "54000/54000 [==============================] - 1s 18us/step - loss: 0.1755 - acc: 0.9524 - val_loss: 0.1939 - val_acc: 0.9522\n",
            "Epoch 29/30\n",
            "54000/54000 [==============================] - 1s 18us/step - loss: 0.1705 - acc: 0.9535 - val_loss: 0.1873 - val_acc: 0.9558\n",
            "Epoch 30/30\n",
            "54000/54000 [==============================] - 1s 19us/step - loss: 0.1666 - acc: 0.9544 - val_loss: 0.1872 - val_acc: 0.9553\n",
            "10000/10000 [==============================] - 0s 20us/step\n"
          ],
          "name": "stdout"
        },
        {
          "output_type": "display_data",
          "data": {
            "image/png": "[encoded data removed]",
            "text/plain": [
              "<Figure size 432x288 with 1 Axes>"
            ]
          },
          "metadata": {
            "tags": []
          }
        },
        {
          "output_type": "stream",
          "text": [
            "Test loss: 0.229\n",
            "Test accuracy: 0.944\n"
          ],
          "name": "stdout"
        }
      ]
    },
    {
      "cell_type": "code",
      "metadata": {
        "id": "DkxCUw3vBRzF",
        "colab_type": "code",
        "colab": {}
      },
      "source": [
        ""
      ],
      "execution_count": 0,
      "outputs": []
    },
    {
      "cell_type": "code",
      "metadata": {
        "id": "Qfm1SEhhWELf",
        "colab_type": "code",
        "colab": {}
      },
      "source": [
        ""
      ],
      "execution_count": 0,
      "outputs": []
    }
  ]
}